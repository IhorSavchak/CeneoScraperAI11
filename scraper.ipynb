{
 "cells": [
  {
   "cell_type": "markdown",
   "metadata": {},
   "source": [
    "# Ceneo Scraper"
   ]
  },
  {
   "cell_type": "markdown",
   "metadata": {},
   "source": [
    "# Loading libraries"
   ]
  },
  {
   "cell_type": "code",
   "execution_count": null,
   "metadata": {},
   "outputs": [],
   "source": [
    "import requests\n",
    "from bs4 import BeautifulSoup"
   ]
  },
  {
   "cell_type": "markdown",
   "metadata": {},
   "source": [
    "# Sending request to Ceneo.pl server"
   ]
  },
  {
   "cell_type": "code",
   "execution_count": null,
   "metadata": {},
   "outputs": [],
   "source": [
    "product_id = \"41586775\"\n",
    "url = f\"https://www.ceneo.pl/{product_id}#tab=reviews\"\n",
    "response = requests.get(url)\n",
    "response.status_code"
   ]
  },
  {
   "cell_type": "code",
   "execution_count": null,
   "metadata": {},
   "outputs": [],
   "source": [
    "page_dom = BeautifulSoup(response.text, \"html.parser\")\n",
    "opinions = page_dom.select(\"div.js_product-review\")\n",
    "opinion = page_dom.select(\"div.js_product-review\")\n",
    "\n",
    "print(type(page_dom))\n",
    "print(type(opinion))\n",
    "print(type(opinions))\n",
    "print(opinion)"
   ]
  },
  {
   "cell_type": "markdown",
   "metadata": {},
   "source": [
    "|Component|Selector|Variable|\n",
    "|---------|--------|--------|\n",
    "|opinion ID|[\"data-entry-id\"]|opinion_id|\n",
    "|opinion’s author|[\"span.user-post__author-recomendation > em|recomendation\"]|author|\n",
    "|author’s recommendation|[\"span.user-post__score-count\"]|recomendation|\n",
    "|score expressed in number of stars|[\"div.user-post__score-count\"]|score|\n",
    "|opinion’s content|[\"div.user-post__text\"]|content|\n",
    "|list of product advantages|[\"div.review.feture__title--positives ~ div.review-feture__item\"]|pros|\n",
    "|list of product disadvantages|[\"div.review.feture__title--negatives ~ div.review-feture__item\"]|cons|\n",
    "|how many users think that opinion was helpful|button.vote-yes > span|helpful|\n",
    "|how many users think that opinion was unhelpful|button.vote-no > span|unhelpful|\n",
    "|publishing date|span.user-post__published > time:nth-child{1}[\"datetime]|publish_date|\n",
    "|purchase date|span.user-post__published > time:nth-child{2}[\"datetime]|purchase_date|\n"
   ]
  },
  {
   "cell_type": "code",
   "execution_count": null,
   "metadata": {},
   "outputs": [],
   "source": [
    "\n",
    "opinion_id = opinion[\"data-entry-id\"]\n",
    "author = opinion.select_one(\"span.useer-post__author-name\")\n",
    "recomendation = opinion[\"author-recomendation\"]\n",
    "score = opinion[\"score-count\"]\n",
    "content = opinion[\"text\"]\n",
    "pros = opinion[\"title--positives\"]\n",
    "cons = opinion[\"title--negatives\"]\n",
    "helpful = opinion[\" \"]"
   ]
  }
 ],
 "metadata": {
  "kernelspec": {
   "display_name": ".venv",
   "language": "python",
   "name": "python3"
  },
  "language_info": {
   "codemirror_mode": {
    "name": "ipython",
    "version": 3
   },
   "file_extension": ".py",
   "mimetype": "text/x-python",
   "name": "python",
   "nbconvert_exporter": "python",
   "pygments_lexer": "ipython3",
   "version": "3.12.0"
  }
 },
 "nbformat": 4,
 "nbformat_minor": 2
}
